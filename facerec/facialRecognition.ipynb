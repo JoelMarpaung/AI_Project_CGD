{
 "cells": [
  {
   "cell_type": "code",
   "execution_count": 1,
   "metadata": {},
   "outputs": [],
   "source": [
    "import cv2 \n",
    "import os \n",
    "import numpy as np"
   ]
  },
  {
   "cell_type": "code",
   "execution_count": 1,
   "metadata": {},
   "outputs": [],
   "source": [
    "def faceDetection(test_img):\n",
    "    gray_img = cv2.cvtColor(test_img, cv2.COLOR_BGR2GRAY)\n",
    "    face_haar_cascade = cv2.CascadeClassifier('C:/Users/Asus/Documents/Kerja Praktik/FaceRecognition/haarcascade_frontalface_default.xml')\n",
    "    faces = face_haar_cascade.detectMultiScale(gray_img, scaleFactor = 1.3, minNeighbors = 5)\n",
    "    \n",
    "    return faces, gray_img\n",
    "\n",
    "def imageLabelling(directory):\n",
    "    faces=[]\n",
    "    faceID = []\n",
    "    \n",
    "    for path, subdirnames, filenames in os.walk(directory):\n",
    "        for filename in filenames:\n",
    "            if filename.startswith(\".\"):\n",
    "                print(\"Unknown person\")\n",
    "                continue\n",
    "            \n",
    "            id = os.path.basename(path)\n",
    "            img_path = os.path.join(path, filename)\n",
    "            print(\"img_path : \", img_path)\n",
    "            print(\"id : \", id)\n",
    "            test_img = cv2.imread(img_path)\n",
    "            \n",
    "            if test_img is None:\n",
    "                print(\"Image not loaded properly\")\n",
    "                continue\n",
    "            \n",
    "            faces_rect, gray_img = faceDetection(test_img)\n",
    "            if len(faces_rect)!=1:\n",
    "                continue\n",
    "            \n",
    "            (x,y,w,h) = faces_rect[0]\n",
    "            img_gray = gray_img[y:y+w, x:x+h]\n",
    "            faces.append(img_gray)\n",
    "            faceID.append(int(id))\n",
    "            \n",
    "    return faces, faceID\n",
    "\n",
    "def train_model(faces, faceID):\n",
    "    face_recog = cv2.face.LBPHFaceRecognizer_create()\n",
    "    face_recog.train(faces, np.array(faceID))\n",
    "    return face_recog\n",
    "\n",
    "def make_rectangle(test_img, face):\n",
    "    (x,y,w,h) = face\n",
    "    cv2.rectangle(test_img, (x,y), (x+w, y+h), (255,0,0), thickness = 5)\n",
    "    \n",
    "def show_name(test_img, text, x, y):\n",
    "    cv2.putText(test_img, text, (x,y), cv2.FONT_ITALIC, 1, (255,255,255), 1)\n",
    "\n"
   ]
  },
  {
   "cell_type": "code",
   "execution_count": null,
   "metadata": {},
   "outputs": [],
   "source": []
  }
 ],
 "metadata": {
  "kernelspec": {
   "display_name": "Python 3",
   "language": "python",
   "name": "python3"
  },
  "language_info": {
   "codemirror_mode": {
    "name": "ipython",
    "version": 3
   },
   "file_extension": ".py",
   "mimetype": "text/x-python",
   "name": "python",
   "nbconvert_exporter": "python",
   "pygments_lexer": "ipython3",
   "version": "3.7.1"
  }
 },
 "nbformat": 4,
 "nbformat_minor": 2
}
